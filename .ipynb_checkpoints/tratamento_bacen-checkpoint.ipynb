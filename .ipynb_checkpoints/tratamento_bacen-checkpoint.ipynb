{
 "cells": [
  {
   "cell_type": "code",
   "execution_count": 1,
   "metadata": {
    "executionInfo": {
     "elapsed": 228,
     "status": "ok",
     "timestamp": 1690912575496,
     "user": {
      "displayName": "ESTAGIARIO2 CGR",
      "userId": "10244625530664156514"
     },
     "user_tz": 180
    },
    "id": "Ty1RBIvyS9QA"
   },
   "outputs": [],
   "source": [
    "import pandas as pd\n",
    "import numpy as np\n",
    "import glob\n",
    "from datetime import date"
   ]
  },
  {
   "cell_type": "code",
   "execution_count": 2,
   "metadata": {
    "executionInfo": {
     "elapsed": 3,
     "status": "ok",
     "timestamp": 1690910020622,
     "user": {
      "displayName": "ESTAGIARIO2 CGR",
      "userId": "10244625530664156514"
     },
     "user_tz": 180
    },
    "id": "YaS20ZvqXhnB"
   },
   "outputs": [],
   "source": [
    "ipca = 433\n",
    "igpm = 189\n",
    "selic = 4390\n",
    "dolar_americano = 3695\n",
    "dolar_americano_mensal = 3696"
   ]
  },
  {
   "cell_type": "code",
   "execution_count": 3,
   "metadata": {
    "executionInfo": {
     "elapsed": 248,
     "status": "ok",
     "timestamp": 1690916525980,
     "user": {
      "displayName": "ESTAGIARIO2 CGR",
      "userId": "10244625530664156514"
     },
     "user_tz": 180
    },
    "id": "kSCz_3CjZsLC"
   },
   "outputs": [],
   "source": [
    "data = {}\n",
    "for arquivo in glob.glob('/content/*.csv'):\n",
    "    if '433' in pd.read_csv(arquivo, sep=';', encoding='latin1').columns[1]:\n",
    "        data['ipca_mes'] = pd.read_csv(arquivo, sep=';', encoding='latin1')[:-1]\n",
    "    elif '189' in pd.read_csv(arquivo, sep=';', encoding='latin1').columns[1]:\n",
    "        data['igpm_mes'] = pd.read_csv(arquivo, sep=';', encoding='latin1')[:-1]\n",
    "    elif '4390' in pd.read_csv(arquivo, sep=';', encoding='latin1').columns[1]:\n",
    "        data['selic_mes'] = pd.read_csv(arquivo, sep=';', encoding='latin1')[:-1]\n",
    "    elif  '3695' in pd.read_csv(arquivo, sep=';', encoding='latin1').columns[1]:\n",
    "        data['dolar_ptax_mes'] = pd.read_csv(arquivo, sep=';', encoding='latin1')[:-1]\n",
    "    else:\n",
    "        data['dolar_ptax_mes_fim_periodo'] = pd.read_csv(arquivo, sep=';', encoding='latin1')[:-1]"
   ]
  },
  {
   "cell_type": "code",
   "execution_count": 4,
   "metadata": {
    "colab": {
     "base_uri": "https://localhost:8080/"
    },
    "executionInfo": {
     "elapsed": 5,
     "status": "ok",
     "timestamp": 1690916526351,
     "user": {
      "displayName": "ESTAGIARIO2 CGR",
      "userId": "10244625530664156514"
     },
     "user_tz": 180
    },
    "id": "LK9LKKfHcJDf",
    "outputId": "c822201d-0609-4552-9f0a-5311778f68c9"
   },
   "outputs": [],
   "source": [
    "for key in data.keys():\n",
    "    data[key][key] = data[key][data[key].columns[1]].apply(lambda x: float(x.replace(',', '.'))/100)\n",
    "    data[key]['Data'] = data[key]['Data'].apply(lambda x: ''.join([x.split('/')[1], x.split('/')[0]]))\n",
    "\n",
    "    if f'{date.today().year}{\"%02d\" % (date.today().month - 1)}' in list(data[key].Data):\n",
    "        pass\n",
    "    else:\n",
    "        data[key] = data[key].append(pd.DataFrame([[f'{date.today().year}{\"%02d\" % (date.today().month - 1)}', np.NaN, '0.0000']], columns=data[key].columns)).reset_index().drop(columns='index')\n",
    "\n",
    "    if f'{date.today().year}{\"%02d\" % (date.today().month)}' in list(data[key].Data):\n",
    "        pass\n",
    "    else:\n",
    "        data[key] = data[key].append(pd.DataFrame([[f'{date.today().year}{\"%02d\" % (date.today().month)}', np.NaN, '0.0000']], columns=data[key].columns)).reset_index().drop(columns='index')\n",
    "    data[key] = data[key].append(pd.DataFrame([[f'{date.today().year}{\"%02d\" % (date.today().month + 1)}', np.NaN, '0.0000']], columns=data[key].columns)).reset_index().drop(columns='index')\n",
    "\n",
    "    data[key].rename(columns={'Data': 'periodo'}, inplace=True)\n",
    "\n",
    "    data[key] = data[key].iloc[:, [0, 2]]"
   ]
  },
  {
   "cell_type": "code",
   "execution_count": 5,
   "metadata": {
    "executionInfo": {
     "elapsed": 574,
     "status": "ok",
     "timestamp": 1690917259955,
     "user": {
      "displayName": "ESTAGIARIO2 CGR",
      "userId": "10244625530664156514"
     },
     "user_tz": 180
    },
    "id": "x2UrUUlnemI5"
   },
   "outputs": [],
   "source": [
    "count = 0\n",
    "for key in data.keys():\n",
    "\n",
    "    if count == 0:\n",
    "        df = data[key]\n",
    "    else:\n",
    "        df = df.merge(data[key], how='left', on='periodo')\n",
    "\n",
    "    count += 1"
   ]
  },
  {
   "cell_type": "code",
   "execution_count": 6,
   "metadata": {
    "executionInfo": {
     "elapsed": 376,
     "status": "ok",
     "timestamp": 1690918632428,
     "user": {
      "displayName": "ESTAGIARIO2 CGR",
      "userId": "10244625530664156514"
     },
     "user_tz": 180
    },
    "id": "woTdSgRJhmZo"
   },
   "outputs": [
    {
     "ename": "NameError",
     "evalue": "name 'df' is not defined",
     "output_type": "error",
     "traceback": [
      "\u001b[0;31m---------------------------------------------------------------------------\u001b[0m",
      "\u001b[0;31mNameError\u001b[0m                                 Traceback (most recent call last)",
      "\u001b[0;32m<ipython-input-6-5e381cb03c8d>\u001b[0m in \u001b[0;36m<module>\u001b[0;34m\u001b[0m\n\u001b[0;32m----> 1\u001b[0;31m \u001b[0mdf\u001b[0m\u001b[0;34m[\u001b[0m\u001b[0;34m'ipca_acum'\u001b[0m\u001b[0;34m]\u001b[0m \u001b[0;34m=\u001b[0m \u001b[0;34m[\u001b[0m\u001b[0mnp\u001b[0m\u001b[0;34m.\u001b[0m\u001b[0mNaN\u001b[0m \u001b[0;32mif\u001b[0m \u001b[0;34m(\u001b[0m\u001b[0;34m(\u001b[0m\u001b[0mfloat\u001b[0m\u001b[0;34m(\u001b[0m\u001b[0mdf\u001b[0m\u001b[0;34m.\u001b[0m\u001b[0mipca_mes\u001b[0m\u001b[0;34m[\u001b[0m\u001b[0mi\u001b[0m\u001b[0;34m]\u001b[0m\u001b[0;34m)\u001b[0m \u001b[0;34m!=\u001b[0m \u001b[0;36m0\u001b[0m\u001b[0;34m)\u001b[0m \u001b[0;34m|\u001b[0m \u001b[0;34m(\u001b[0m\u001b[0mint\u001b[0m\u001b[0;34m(\u001b[0m\u001b[0mdf\u001b[0m\u001b[0;34m.\u001b[0m\u001b[0mperiodo\u001b[0m\u001b[0;34m[\u001b[0m\u001b[0mi\u001b[0m\u001b[0;34m]\u001b[0m\u001b[0;34m)\u001b[0m \u001b[0;34m<\u001b[0m \u001b[0;36m202305\u001b[0m\u001b[0;34m)\u001b[0m\u001b[0;34m)\u001b[0m \u001b[0;32melse\u001b[0m \u001b[0;36m1.0\u001b[0m \u001b[0;32mfor\u001b[0m \u001b[0mi\u001b[0m \u001b[0;32min\u001b[0m \u001b[0mrange\u001b[0m\u001b[0;34m(\u001b[0m\u001b[0mlen\u001b[0m\u001b[0;34m(\u001b[0m\u001b[0mdf\u001b[0m\u001b[0;34m)\u001b[0m\u001b[0;34m)\u001b[0m\u001b[0;34m]\u001b[0m\u001b[0;34m\u001b[0m\u001b[0;34m\u001b[0m\u001b[0m\n\u001b[0m\u001b[1;32m      2\u001b[0m \u001b[0mdf\u001b[0m\u001b[0;34m[\u001b[0m\u001b[0;34m'igp_m_acum'\u001b[0m\u001b[0;34m]\u001b[0m \u001b[0;34m=\u001b[0m \u001b[0;34m[\u001b[0m\u001b[0mnp\u001b[0m\u001b[0;34m.\u001b[0m\u001b[0mNaN\u001b[0m \u001b[0;32mif\u001b[0m \u001b[0;34m(\u001b[0m\u001b[0;34m(\u001b[0m\u001b[0mfloat\u001b[0m\u001b[0;34m(\u001b[0m\u001b[0mdf\u001b[0m\u001b[0;34m.\u001b[0m\u001b[0migpm_mes\u001b[0m\u001b[0;34m[\u001b[0m\u001b[0mi\u001b[0m\u001b[0;34m]\u001b[0m\u001b[0;34m)\u001b[0m \u001b[0;34m!=\u001b[0m \u001b[0;36m0\u001b[0m\u001b[0;34m)\u001b[0m \u001b[0;34m|\u001b[0m \u001b[0;34m(\u001b[0m\u001b[0mint\u001b[0m\u001b[0;34m(\u001b[0m\u001b[0mdf\u001b[0m\u001b[0;34m.\u001b[0m\u001b[0mperiodo\u001b[0m\u001b[0;34m[\u001b[0m\u001b[0mi\u001b[0m\u001b[0;34m]\u001b[0m\u001b[0;34m)\u001b[0m \u001b[0;34m<\u001b[0m \u001b[0;36m202305\u001b[0m\u001b[0;34m)\u001b[0m\u001b[0;34m)\u001b[0m \u001b[0;32melse\u001b[0m \u001b[0;36m1.0\u001b[0m \u001b[0;32mfor\u001b[0m \u001b[0mi\u001b[0m \u001b[0;32min\u001b[0m \u001b[0mrange\u001b[0m\u001b[0;34m(\u001b[0m\u001b[0mlen\u001b[0m\u001b[0;34m(\u001b[0m\u001b[0mdf\u001b[0m\u001b[0;34m)\u001b[0m\u001b[0;34m)\u001b[0m\u001b[0;34m]\u001b[0m\u001b[0;34m\u001b[0m\u001b[0;34m\u001b[0m\u001b[0m\n\u001b[1;32m      3\u001b[0m \u001b[0mdf\u001b[0m\u001b[0;34m[\u001b[0m\u001b[0;34m'selic_acum'\u001b[0m\u001b[0;34m]\u001b[0m \u001b[0;34m=\u001b[0m \u001b[0;34m[\u001b[0m\u001b[0mnp\u001b[0m\u001b[0;34m.\u001b[0m\u001b[0mNaN\u001b[0m \u001b[0;32mif\u001b[0m \u001b[0;34m(\u001b[0m\u001b[0;34m(\u001b[0m\u001b[0mfloat\u001b[0m\u001b[0;34m(\u001b[0m\u001b[0mdf\u001b[0m\u001b[0;34m.\u001b[0m\u001b[0mselic_mes\u001b[0m\u001b[0;34m[\u001b[0m\u001b[0mi\u001b[0m\u001b[0;34m]\u001b[0m\u001b[0;34m)\u001b[0m \u001b[0;34m!=\u001b[0m \u001b[0;36m0\u001b[0m\u001b[0;34m)\u001b[0m \u001b[0;34m|\u001b[0m \u001b[0;34m(\u001b[0m\u001b[0mint\u001b[0m\u001b[0;34m(\u001b[0m\u001b[0mdf\u001b[0m\u001b[0;34m.\u001b[0m\u001b[0mperiodo\u001b[0m\u001b[0;34m[\u001b[0m\u001b[0mi\u001b[0m\u001b[0;34m]\u001b[0m\u001b[0;34m)\u001b[0m \u001b[0;34m<\u001b[0m \u001b[0;36m202305\u001b[0m\u001b[0;34m)\u001b[0m\u001b[0;34m)\u001b[0m \u001b[0;32melse\u001b[0m \u001b[0;36m1.0\u001b[0m \u001b[0;32mfor\u001b[0m \u001b[0mi\u001b[0m \u001b[0;32min\u001b[0m \u001b[0mrange\u001b[0m\u001b[0;34m(\u001b[0m\u001b[0mlen\u001b[0m\u001b[0;34m(\u001b[0m\u001b[0mdf\u001b[0m\u001b[0;34m)\u001b[0m\u001b[0;34m)\u001b[0m\u001b[0;34m]\u001b[0m\u001b[0;34m\u001b[0m\u001b[0;34m\u001b[0m\u001b[0m\n",
      "\u001b[0;31mNameError\u001b[0m: name 'df' is not defined"
     ]
    }
   ],
   "source": [
    "df['ipca_acum'] = [np.NaN if ((float(df.ipca_mes[i]) != 0) | (int(df.periodo[i]) < 202305)) else 1.0 for i in range(len(df))]\n",
    "df['igp_m_acum'] = [np.NaN if ((float(df.igpm_mes[i]) != 0) | (int(df.periodo[i]) < 202305)) else 1.0 for i in range(len(df))]\n",
    "df['selic_acum'] = [np.NaN if ((float(df.selic_mes[i]) != 0) | (int(df.periodo[i]) < 202305)) else 1.0 for i in range(len(df))]"
   ]
  },
  {
   "cell_type": "code",
   "execution_count": 187,
   "metadata": {
    "colab": {
     "base_uri": "https://localhost:8080/",
     "height": 424
    },
    "executionInfo": {
     "elapsed": 266,
     "status": "ok",
     "timestamp": 1690918634126,
     "user": {
      "displayName": "ESTAGIARIO2 CGR",
      "userId": "10244625530664156514"
     },
     "user_tz": 180
    },
    "id": "4ob48lb5gTer",
    "outputId": "8340e800-73c8-4ff3-b030-ae24a515140c"
   },
   "outputs": [
    {
     "data": {
      "text/html": [
       "\n",
       "\n",
       "  <div id=\"df-c3394c6c-4700-4b62-ab22-b206110fdec2\">\n",
       "    <div class=\"colab-df-container\">\n",
       "      <div>\n",
       "<style scoped>\n",
       "    .dataframe tbody tr th:only-of-type {\n",
       "        vertical-align: middle;\n",
       "    }\n",
       "\n",
       "    .dataframe tbody tr th {\n",
       "        vertical-align: top;\n",
       "    }\n",
       "\n",
       "    .dataframe thead th {\n",
       "        text-align: right;\n",
       "    }\n",
       "</style>\n",
       "<table border=\"1\" class=\"dataframe\">\n",
       "  <thead>\n",
       "    <tr style=\"text-align: right;\">\n",
       "      <th></th>\n",
       "      <th>periodo</th>\n",
       "      <th>igpm_mes</th>\n",
       "      <th>dolar_ptax_mes_fim_periodo</th>\n",
       "      <th>selic_mes</th>\n",
       "      <th>ipca_mes</th>\n",
       "      <th>dolar_ptax_mes</th>\n",
       "      <th>ipca_acum</th>\n",
       "      <th>igp_m_acum</th>\n",
       "      <th>selic_acum</th>\n",
       "    </tr>\n",
       "  </thead>\n",
       "  <tbody>\n",
       "    <tr>\n",
       "      <th>0</th>\n",
       "      <td>199407</td>\n",
       "      <td>0.0433</td>\n",
       "      <td>0.0094</td>\n",
       "      <td>0.0687</td>\n",
       "      <td>0.0684</td>\n",
       "      <td>0.00938</td>\n",
       "      <td>NaN</td>\n",
       "      <td>NaN</td>\n",
       "      <td>NaN</td>\n",
       "    </tr>\n",
       "    <tr>\n",
       "      <th>1</th>\n",
       "      <td>199408</td>\n",
       "      <td>0.0394</td>\n",
       "      <td>0.00889</td>\n",
       "      <td>0.0417</td>\n",
       "      <td>0.0186</td>\n",
       "      <td>0.00887</td>\n",
       "      <td>NaN</td>\n",
       "      <td>NaN</td>\n",
       "      <td>NaN</td>\n",
       "    </tr>\n",
       "    <tr>\n",
       "      <th>2</th>\n",
       "      <td>199409</td>\n",
       "      <td>0.0175</td>\n",
       "      <td>0.00853</td>\n",
       "      <td>0.0383</td>\n",
       "      <td>0.0153</td>\n",
       "      <td>0.00851</td>\n",
       "      <td>NaN</td>\n",
       "      <td>NaN</td>\n",
       "      <td>NaN</td>\n",
       "    </tr>\n",
       "    <tr>\n",
       "      <th>3</th>\n",
       "      <td>199410</td>\n",
       "      <td>0.0182</td>\n",
       "      <td>0.00846</td>\n",
       "      <td>0.0362</td>\n",
       "      <td>0.0262</td>\n",
       "      <td>0.00844</td>\n",
       "      <td>NaN</td>\n",
       "      <td>NaN</td>\n",
       "      <td>NaN</td>\n",
       "    </tr>\n",
       "    <tr>\n",
       "      <th>4</th>\n",
       "      <td>199411</td>\n",
       "      <td>0.0285</td>\n",
       "      <td>0.00845</td>\n",
       "      <td>0.0407</td>\n",
       "      <td>0.0281</td>\n",
       "      <td>0.00843</td>\n",
       "      <td>NaN</td>\n",
       "      <td>NaN</td>\n",
       "      <td>NaN</td>\n",
       "    </tr>\n",
       "    <tr>\n",
       "      <th>...</th>\n",
       "      <td>...</td>\n",
       "      <td>...</td>\n",
       "      <td>...</td>\n",
       "      <td>...</td>\n",
       "      <td>...</td>\n",
       "      <td>...</td>\n",
       "      <td>...</td>\n",
       "      <td>...</td>\n",
       "      <td>...</td>\n",
       "    </tr>\n",
       "    <tr>\n",
       "      <th>346</th>\n",
       "      <td>202305</td>\n",
       "      <td>-0.0184</td>\n",
       "      <td>0.050959</td>\n",
       "      <td>0.0112</td>\n",
       "      <td>0.0023</td>\n",
       "      <td>0.050953</td>\n",
       "      <td>NaN</td>\n",
       "      <td>NaN</td>\n",
       "      <td>NaN</td>\n",
       "    </tr>\n",
       "    <tr>\n",
       "      <th>347</th>\n",
       "      <td>202306</td>\n",
       "      <td>-0.0193</td>\n",
       "      <td>0.048192</td>\n",
       "      <td>0.0107</td>\n",
       "      <td>-0.0008</td>\n",
       "      <td>0.048186</td>\n",
       "      <td>NaN</td>\n",
       "      <td>NaN</td>\n",
       "      <td>NaN</td>\n",
       "    </tr>\n",
       "    <tr>\n",
       "      <th>348</th>\n",
       "      <td>202307</td>\n",
       "      <td>-0.0072</td>\n",
       "      <td>0.0000</td>\n",
       "      <td>0.0102</td>\n",
       "      <td>0.0000</td>\n",
       "      <td>0.0000</td>\n",
       "      <td>1.0</td>\n",
       "      <td>NaN</td>\n",
       "      <td>NaN</td>\n",
       "    </tr>\n",
       "    <tr>\n",
       "      <th>349</th>\n",
       "      <td>202308</td>\n",
       "      <td>0.0000</td>\n",
       "      <td>0.0000</td>\n",
       "      <td>0.0000</td>\n",
       "      <td>0.0000</td>\n",
       "      <td>0.0000</td>\n",
       "      <td>1.0</td>\n",
       "      <td>1.0</td>\n",
       "      <td>1.0</td>\n",
       "    </tr>\n",
       "    <tr>\n",
       "      <th>350</th>\n",
       "      <td>202309</td>\n",
       "      <td>0.0000</td>\n",
       "      <td>0.0000</td>\n",
       "      <td>0.0000</td>\n",
       "      <td>0.0000</td>\n",
       "      <td>0.0000</td>\n",
       "      <td>1.0</td>\n",
       "      <td>1.0</td>\n",
       "      <td>1.0</td>\n",
       "    </tr>\n",
       "  </tbody>\n",
       "</table>\n",
       "<p>351 rows × 9 columns</p>\n",
       "</div>\n",
       "      <button class=\"colab-df-convert\" onclick=\"convertToInteractive('df-c3394c6c-4700-4b62-ab22-b206110fdec2')\"\n",
       "              title=\"Convert this dataframe to an interactive table.\"\n",
       "              style=\"display:none;\">\n",
       "\n",
       "  <svg xmlns=\"http://www.w3.org/2000/svg\" height=\"24px\"viewBox=\"0 0 24 24\"\n",
       "       width=\"24px\">\n",
       "    <path d=\"M0 0h24v24H0V0z\" fill=\"none\"/>\n",
       "    <path d=\"M18.56 5.44l.94 2.06.94-2.06 2.06-.94-2.06-.94-.94-2.06-.94 2.06-2.06.94zm-11 1L8.5 8.5l.94-2.06 2.06-.94-2.06-.94L8.5 2.5l-.94 2.06-2.06.94zm10 10l.94 2.06.94-2.06 2.06-.94-2.06-.94-.94-2.06-.94 2.06-2.06.94z\"/><path d=\"M17.41 7.96l-1.37-1.37c-.4-.4-.92-.59-1.43-.59-.52 0-1.04.2-1.43.59L10.3 9.45l-7.72 7.72c-.78.78-.78 2.05 0 2.83L4 21.41c.39.39.9.59 1.41.59.51 0 1.02-.2 1.41-.59l7.78-7.78 2.81-2.81c.8-.78.8-2.07 0-2.86zM5.41 20L4 18.59l7.72-7.72 1.47 1.35L5.41 20z\"/>\n",
       "  </svg>\n",
       "      </button>\n",
       "\n",
       "\n",
       "\n",
       "    <div id=\"df-227cce46-fc2e-4967-837e-bd2f9c722da6\">\n",
       "      <button class=\"colab-df-quickchart\" onclick=\"quickchart('df-227cce46-fc2e-4967-837e-bd2f9c722da6')\"\n",
       "              title=\"Suggest charts.\"\n",
       "              style=\"display:none;\">\n",
       "\n",
       "<svg xmlns=\"http://www.w3.org/2000/svg\" height=\"24px\"viewBox=\"0 0 24 24\"\n",
       "     width=\"24px\">\n",
       "    <g>\n",
       "        <path d=\"M19 3H5c-1.1 0-2 .9-2 2v14c0 1.1.9 2 2 2h14c1.1 0 2-.9 2-2V5c0-1.1-.9-2-2-2zM9 17H7v-7h2v7zm4 0h-2V7h2v10zm4 0h-2v-4h2v4z\"/>\n",
       "    </g>\n",
       "</svg>\n",
       "      </button>\n",
       "    </div>\n",
       "\n",
       "<style>\n",
       "  .colab-df-quickchart {\n",
       "    background-color: #E8F0FE;\n",
       "    border: none;\n",
       "    border-radius: 50%;\n",
       "    cursor: pointer;\n",
       "    display: none;\n",
       "    fill: #1967D2;\n",
       "    height: 32px;\n",
       "    padding: 0 0 0 0;\n",
       "    width: 32px;\n",
       "  }\n",
       "\n",
       "  .colab-df-quickchart:hover {\n",
       "    background-color: #E2EBFA;\n",
       "    box-shadow: 0px 1px 2px rgba(60, 64, 67, 0.3), 0px 1px 3px 1px rgba(60, 64, 67, 0.15);\n",
       "    fill: #174EA6;\n",
       "  }\n",
       "\n",
       "  [theme=dark] .colab-df-quickchart {\n",
       "    background-color: #3B4455;\n",
       "    fill: #D2E3FC;\n",
       "  }\n",
       "\n",
       "  [theme=dark] .colab-df-quickchart:hover {\n",
       "    background-color: #434B5C;\n",
       "    box-shadow: 0px 1px 3px 1px rgba(0, 0, 0, 0.15);\n",
       "    filter: drop-shadow(0px 1px 2px rgba(0, 0, 0, 0.3));\n",
       "    fill: #FFFFFF;\n",
       "  }\n",
       "</style>\n",
       "\n",
       "    <script>\n",
       "      async function quickchart(key) {\n",
       "        const containerElement = document.querySelector('#' + key);\n",
       "        const charts = await google.colab.kernel.invokeFunction(\n",
       "            'suggestCharts', [key], {});\n",
       "      }\n",
       "    </script>\n",
       "\n",
       "      <script>\n",
       "\n",
       "function displayQuickchartButton(domScope) {\n",
       "  let quickchartButtonEl =\n",
       "    domScope.querySelector('#df-227cce46-fc2e-4967-837e-bd2f9c722da6 button.colab-df-quickchart');\n",
       "  quickchartButtonEl.style.display =\n",
       "    google.colab.kernel.accessAllowed ? 'block' : 'none';\n",
       "}\n",
       "\n",
       "        displayQuickchartButton(document);\n",
       "      </script>\n",
       "      <style>\n",
       "    .colab-df-container {\n",
       "      display:flex;\n",
       "      flex-wrap:wrap;\n",
       "      gap: 12px;\n",
       "    }\n",
       "\n",
       "    .colab-df-convert {\n",
       "      background-color: #E8F0FE;\n",
       "      border: none;\n",
       "      border-radius: 50%;\n",
       "      cursor: pointer;\n",
       "      display: none;\n",
       "      fill: #1967D2;\n",
       "      height: 32px;\n",
       "      padding: 0 0 0 0;\n",
       "      width: 32px;\n",
       "    }\n",
       "\n",
       "    .colab-df-convert:hover {\n",
       "      background-color: #E2EBFA;\n",
       "      box-shadow: 0px 1px 2px rgba(60, 64, 67, 0.3), 0px 1px 3px 1px rgba(60, 64, 67, 0.15);\n",
       "      fill: #174EA6;\n",
       "    }\n",
       "\n",
       "    [theme=dark] .colab-df-convert {\n",
       "      background-color: #3B4455;\n",
       "      fill: #D2E3FC;\n",
       "    }\n",
       "\n",
       "    [theme=dark] .colab-df-convert:hover {\n",
       "      background-color: #434B5C;\n",
       "      box-shadow: 0px 1px 3px 1px rgba(0, 0, 0, 0.15);\n",
       "      filter: drop-shadow(0px 1px 2px rgba(0, 0, 0, 0.3));\n",
       "      fill: #FFFFFF;\n",
       "    }\n",
       "  </style>\n",
       "\n",
       "      <script>\n",
       "        const buttonEl =\n",
       "          document.querySelector('#df-c3394c6c-4700-4b62-ab22-b206110fdec2 button.colab-df-convert');\n",
       "        buttonEl.style.display =\n",
       "          google.colab.kernel.accessAllowed ? 'block' : 'none';\n",
       "\n",
       "        async function convertToInteractive(key) {\n",
       "          const element = document.querySelector('#df-c3394c6c-4700-4b62-ab22-b206110fdec2');\n",
       "          const dataTable =\n",
       "            await google.colab.kernel.invokeFunction('convertToInteractive',\n",
       "                                                     [key], {});\n",
       "          if (!dataTable) return;\n",
       "\n",
       "          const docLinkHtml = 'Like what you see? Visit the ' +\n",
       "            '<a target=\"_blank\" href=https://colab.research.google.com/notebooks/data_table.ipynb>data table notebook</a>'\n",
       "            + ' to learn more about interactive tables.';\n",
       "          element.innerHTML = '';\n",
       "          dataTable['output_type'] = 'display_data';\n",
       "          await google.colab.output.renderOutput(dataTable, element);\n",
       "          const docLink = document.createElement('div');\n",
       "          docLink.innerHTML = docLinkHtml;\n",
       "          element.appendChild(docLink);\n",
       "        }\n",
       "      </script>\n",
       "    </div>\n",
       "  </div>\n"
      ],
      "text/plain": [
       "    periodo igpm_mes dolar_ptax_mes_fim_periodo selic_mes ipca_mes  \\\n",
       "0    199407   0.0433                     0.0094    0.0687   0.0684   \n",
       "1    199408   0.0394                    0.00889    0.0417   0.0186   \n",
       "2    199409   0.0175                    0.00853    0.0383   0.0153   \n",
       "3    199410   0.0182                    0.00846    0.0362   0.0262   \n",
       "4    199411   0.0285                    0.00845    0.0407   0.0281   \n",
       "..      ...      ...                        ...       ...      ...   \n",
       "346  202305  -0.0184                   0.050959    0.0112   0.0023   \n",
       "347  202306  -0.0193                   0.048192    0.0107  -0.0008   \n",
       "348  202307  -0.0072                     0.0000    0.0102   0.0000   \n",
       "349  202308   0.0000                     0.0000    0.0000   0.0000   \n",
       "350  202309   0.0000                     0.0000    0.0000   0.0000   \n",
       "\n",
       "    dolar_ptax_mes  ipca_acum  igp_m_acum  selic_acum  \n",
       "0          0.00938        NaN         NaN         NaN  \n",
       "1          0.00887        NaN         NaN         NaN  \n",
       "2          0.00851        NaN         NaN         NaN  \n",
       "3          0.00844        NaN         NaN         NaN  \n",
       "4          0.00843        NaN         NaN         NaN  \n",
       "..             ...        ...         ...         ...  \n",
       "346       0.050953        NaN         NaN         NaN  \n",
       "347       0.048186        NaN         NaN         NaN  \n",
       "348         0.0000        1.0         NaN         NaN  \n",
       "349         0.0000        1.0         1.0         1.0  \n",
       "350         0.0000        1.0         1.0         1.0  \n",
       "\n",
       "[351 rows x 9 columns]"
      ]
     },
     "execution_count": 187,
     "metadata": {},
     "output_type": "execute_result"
    }
   ],
   "source": [
    "df"
   ]
  },
  {
   "cell_type": "code",
   "execution_count": 185,
   "metadata": {
    "colab": {
     "base_uri": "https://localhost:8080/"
    },
    "executionInfo": {
     "elapsed": 386,
     "status": "ok",
     "timestamp": 1690918599878,
     "user": {
      "displayName": "ESTAGIARIO2 CGR",
      "userId": "10244625530664156514"
     },
     "user_tz": 180
    },
    "id": "EGgQ8QHWjoHZ",
    "outputId": "28e1be39-3e0c-4230-b19b-26868d64356b"
   },
   "outputs": [
    {
     "data": {
      "text/plain": [
       "3.0"
      ]
     },
     "execution_count": 185,
     "metadata": {},
     "output_type": "execute_result"
    }
   ],
   "source": [
    "df.ipca_acum.sum()"
   ]
  }
 ],
 "metadata": {
  "colab": {
   "authorship_tag": "ABX9TyMGE8YowefAmQnUKPF6DseE",
   "provenance": []
  },
  "kernelspec": {
   "display_name": "Python 3",
   "language": "python",
   "name": "python3"
  },
  "language_info": {
   "codemirror_mode": {
    "name": "ipython",
    "version": 3
   },
   "file_extension": ".py",
   "mimetype": "text/x-python",
   "name": "python",
   "nbconvert_exporter": "python",
   "pygments_lexer": "ipython3",
   "version": "3.8.5"
  }
 },
 "nbformat": 4,
 "nbformat_minor": 1
}
